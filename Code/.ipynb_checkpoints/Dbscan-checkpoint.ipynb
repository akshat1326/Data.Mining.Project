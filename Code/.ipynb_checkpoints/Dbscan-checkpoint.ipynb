{
 "cells": [
  {
   "cell_type": "code",
   "execution_count": null,
   "metadata": {},
   "outputs": [],
   "source": [
    "import numpy\n",
    "\n",
    "def MyDBSCAN(D, eps, MinPts):\n",
    "    \"\"\"\n",
    "    Cluster the dataset `D` using the DBSCAN algorithm.MyDBSCAN takes a dataset `D` (a list of vectors), a threshold distance`eps`, and a required number of points `MinPts`.\n",
    "    It will return a list of cluster labels. The label -1 means noise, and then\n",
    "    the clusters are numbered starting from 1.\n",
    "    \"\"\"\n",
    " \n",
    "    # This list will hold the final cluster assignment for each point in D.\n",
    "    # There are two reserved values:\n",
    "    #    -1 - Indicates a noise point\n",
    "    #     0 - Means the point hasn't been considered yet.\n",
    "    # Initially all labels are 0.    \n",
    "    labels = [0]*len(D)\n",
    "\n",
    "    # C is the ID of the current cluster.    \n",
    "    C = 0\n",
    "    \n",
    "    # This outer loop is just responsible for picking new seed points--a point from which to grow a new cluster.\n",
    "    # cluster growth is all handled by the 'expandCluster' routine.\n",
    "    for P in range(0, len(D)):  \n",
    "        # If the point's label is not 0, continue to the next point.\n",
    "        if not (labels[P] == 0):\n",
    "           continue\n",
    "        \n",
    "        # Find all of P's neighboring points.\n",
    "        NeighborPts = regionQuery(D, P, eps)\n",
    "        \n",
    "        # If the number is below MinPts, this point is noise. \n",
    "        if len(NeighborPts) < MinPts:\n",
    "            labels[P] = -1\n",
    "        # Otherwise, if there are at least MinPts nearby, use this point as the seed for a new cluster.    \n",
    "        else: \n",
    "           C += 1\n",
    "           growCluster(D, labels, P, NeighborPts, C, eps, MinPts)\n",
    "    \n",
    "    return labels"
   ]
  },
  {
   "cell_type": "code",
   "execution_count": null,
   "metadata": {},
   "outputs": [],
   "source": [
    "def growCluster(D, labels, P, NeighborPts, C, eps, MinPts):\n",
    "    # Assign the cluster label to the seed point.\n",
    "    labels[P] = C\n",
    "    \n",
    "    # NeighborPts will be used as a FIFO queue of points to search--that is, it will grow as we discover new branch points for the cluster. The FIFO behavior is accomplished by using a while-loop rather than a for-loop.\n",
    "    i = 0\n",
    "    while i < len(NeighborPts):    \n",
    "        \n",
    "        # Get the next point from the queue.        \n",
    "        Pn = NeighborPts[i]\n",
    "       \n",
    "        # If Pn was labelled NOISE during the seed search, then we make it a leaf point of cluster C and move on.\n",
    "        if labels[Pn] == -1:\n",
    "           labels[Pn] = C\n",
    "        \n",
    "        # Otherwise, if Pn isn't already claimed, claim it as part of C.\n",
    "        elif labels[Pn] == 0:\n",
    "            labels[Pn] = C\n",
    "            \n",
    "            # Find all the neighbors of Pn\n",
    "            PnNeighborPts = regionQuery(D, Pn, eps)\n",
    "            \n",
    "            # Add all of its neighbors to the FIFO queue to be searched. \n",
    "            if len(PnNeighborPts) >= MinPts:\n",
    "                NeighborPts = NeighborPts + PnNeighborPts\n",
    "            # If Pn *doesn't* have enough neighbors, then it's a leaf point.         \n",
    "        \n",
    "        # Advance to the next point in the FIFO queue.\n",
    "        i += 1        \n",
    "    \n",
    "    # We've finished growing cluster C!"
   ]
  },
  {
   "cell_type": "code",
   "execution_count": null,
   "metadata": {},
   "outputs": [],
   "source": [
    "def regionQuery(D, P, eps):\n",
    "    neighbors = []\n",
    "    \n",
    "    # For each point in the dataset...\n",
    "    for Pn in range(0, len(D)):\n",
    "        \n",
    "        # If the distance is below the threshold, add it to the neighbors list.\n",
    "        if numpy.linalg.norm(D[P] - D[Pn]) < eps:\n",
    "           neighbors.append(Pn)\n",
    "            \n",
    "    return neighbors"
   ]
  }
 ],
 "metadata": {
  "kernelspec": {
   "display_name": "Python 3",
   "language": "python",
   "name": "python3"
  },
  "language_info": {
   "codemirror_mode": {
    "name": "ipython",
    "version": 3
   },
   "file_extension": ".py",
   "mimetype": "text/x-python",
   "name": "python",
   "nbconvert_exporter": "python",
   "pygments_lexer": "ipython3",
   "version": "3.7.4"
  }
 },
 "nbformat": 4,
 "nbformat_minor": 2
}
